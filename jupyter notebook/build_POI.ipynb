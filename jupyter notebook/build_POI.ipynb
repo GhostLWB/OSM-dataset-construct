{
 "cells": [
  {
   "cell_type": "code",
   "execution_count": 47,
   "metadata": {},
   "outputs": [
    {
     "name": "stdout",
     "output_type": "stream",
     "text": [
      "Connect database successfully\n"
     ]
    }
   ],
   "source": [
    "# 数据库连接\n",
    "import psycopg2\n",
    "import copy\n",
    "map_name=\"penn\"\n",
    "conn = psycopg2.connect(database=map_name, user=\"postgres\", password=\"1997pgsql\", host=\"127.0.0.1\", port=\"5432\")\n",
    "print(\"Connect database successfully\") \n",
    "cur=conn.cursor()"
   ]
  },
  {
   "cell_type": "code",
   "execution_count": 48,
   "metadata": {},
   "outputs": [],
   "source": [
    "conn.rollback()"
   ]
  },
  {
   "cell_type": "markdown",
   "metadata": {},
   "source": [
    "# 选出作为POI的node,新建一张表来保存"
   ]
  },
  {
   "cell_type": "code",
   "execution_count": 49,
   "metadata": {
    "scrolled": true
   },
   "outputs": [
    {
     "name": "stdout",
     "output_type": "stream",
     "text": [
      "category 0 done.\n",
      "category 1 done.\n",
      "category 2 done.\n",
      "category 3 done.\n",
      "category 4 done.\n",
      "category 5 done.\n",
      "category 6 done.\n",
      "category 7 done.\n",
      "category 8 done.\n",
      "category 9 done.\n",
      "category 10 done.\n",
      "category 11 done.\n",
      "k like 'marketplace%'\n",
      "category 12 done.\n",
      "category 13 done.\n",
      "category 14 done.\n",
      "k='sauna'\n",
      "k='sculptor'\n",
      "category 15 done.\n",
      "category 16 done.\n",
      "k='pastry'\n",
      "category 17 done.\n",
      "category 18 done.\n",
      "category 19 done.\n",
      "category 20 done.\n",
      "k='store'\n",
      "category 21 done.\n",
      "k='lottery'\n",
      "category 22 done.\n",
      "category 23 done.\n",
      "k='grave'\n",
      "category 24 done.\n",
      "category 25 done.\n",
      "category 26 done.\n",
      "category 27 done.\n",
      "category 28 done.\n",
      "category 29 done.\n",
      "category 30 done.\n",
      "category 31 done.\n",
      "category 32 done.\n",
      "category 33 done.\n",
      "k='bakery'\n",
      "category 34 done.\n",
      "k='hospital'\n",
      "k='jewelry'\n",
      "k='goods'\n",
      "k='farm'\n",
      "k='artwork' \n",
      "category 35 done.\n",
      "category 36 done.\n",
      "k='karaoke'\n",
      "k='cafe'\n",
      "category 37 done.\n",
      "extract qualified poi done.\n",
      "Wall time: 11.5 s\n"
     ]
    }
   ],
   "source": [
    "%%time\n",
    "cur.execute('drop table if exists qualified_poi')\n",
    "cur.execute('create table qualified_poi (node_id bigint not null,k text,category_id int)')\n",
    "conn.commit()\n",
    "category_sql_list=[\"k = 'power'\",\"k ='name'\",\"k ='shop'\",\"k ='leisure'\",\"k = 'religion'\",\"k like 'service%'\",\n",
    "                  \"k ='vending'\",\"k = 'building'\",\"k='beer'\",\"k='restaurant' \",\"k like 'drink%' \",\"k like 'toilet%'\",\"k like 'marketplace%'\",\n",
    "                   \" k like 'cuisine%'\",\"k ='brewery'\",\"k='consulate'\",\"k='sauna'\",\"k='sculptor'\",\"k='distillery'\",\"k='furniture'\",\n",
    "                  \"k='pastry'\",\"k like 'theatre%'\",\"k='university'\",\"k='tower'\",\"k='military'\",\"k='store'\",\"k='clothes'\",\"k='lottery'\",\n",
    "                  \"k='breakfast'\",\"k='office' \",\"k='grave'\",\" k='parking'\",\"k='police'\",\"k='dinner'\",\"k='golf'\",\"k='preschool'\",\"k='church'\",\n",
    "                  \"k='coffee'\",\" k='atm'\",\"k='massage'\",\"k='museum'\",\"k='bakery'\",\"k='park'\",\"k='hospital'\",\"k='jewelry'\",\n",
    "                  \"k='goods'\",\"k='farm'\",\"k='artwork' \",\"k='amenity'\",\"k='healthcare' \",\"k='karaoke'\",\"k='cafe'\",\"k='brand'\"]\n",
    "insert_poi_sql=\"\"\"\n",
    "insert into qualified_poi\n",
    "select node_id,k ,0\n",
    "from node_tags \n",
    "where %s\n",
    "\"\"\"\n",
    "select_poi_sql=\"\"\"\n",
    "select node_id,k \n",
    "from node_tags \n",
    "where %s\n",
    "\"\"\"\n",
    "set_category_id_sql = \"\"\"\n",
    "update qualified_poi set category_id=%d where %s\n",
    "\"\"\"\n",
    "category_count=0\n",
    "index=0\n",
    "for i in range(len(category_sql_list)):\n",
    "    try:\n",
    "        category_string=category_sql_list[i]\n",
    "        cur.execute(select_poi_sql%(category_string))\n",
    "        result=cur.fetchall()\n",
    "        if len(result)==0:\n",
    "            print(category_string)\n",
    "            continue\n",
    "        cur.execute(insert_poi_sql%(category_string))\n",
    "        cur.execute(set_category_id_sql%(index,category_string))\n",
    "        conn.commit()\n",
    "        print('category %d done.'%(index))\n",
    "        index+=1\n",
    "    except Exception as e:\n",
    "        print(e)\n",
    "        conn.rollback()\n",
    "print('extract qualified poi done.')"
   ]
  },
  {
   "cell_type": "markdown",
   "metadata": {},
   "source": [
    "# 获取每个category的POI总数"
   ]
  },
  {
   "cell_type": "code",
   "execution_count": 50,
   "metadata": {},
   "outputs": [],
   "source": [
    "sql_str=\"select category_id, count(distinct node_id) as num from qualified_poi group by category_id\"\n",
    "cur.execute(sql_str)\n",
    "result=cur.fetchall()\n",
    "category_num=[]\n",
    "category_count=len(result)\n",
    "for item in result:\n",
    "    category_num.append(item[1])"
   ]
  },
  {
   "cell_type": "code",
   "execution_count": 51,
   "metadata": {},
   "outputs": [
    {
     "name": "stdout",
     "output_type": "stream",
     "text": [
      "[61253, 82028, 15320, 3939, 5070, 173, 108, 20570, 2, 5, 95, 246, 4992, 28, 1, 1, 2, 10, 2, 4, 38, 260, 3, 2910, 397, 2, 1, 287, 9, 1, 1, 282, 1, 16, 2, 42410, 1833, 7426]\n"
     ]
    }
   ],
   "source": [
    "print(category_num)"
   ]
  },
  {
   "cell_type": "markdown",
   "metadata": {},
   "source": [
    "# 从foursquare获取评分"
   ]
  },
  {
   "cell_type": "code",
   "execution_count": 20,
   "metadata": {},
   "outputs": [
    {
     "name": "stdout",
     "output_type": "stream",
     "text": [
      "84291\n"
     ]
    }
   ],
   "source": [
    "foursquareRating=[]\n",
    "with open('../foursquare/foursquareRating.txt','r') as f:\n",
    "    for line in f:\n",
    "        data=line.split()\n",
    "        for item in data:\n",
    "            foursquareRating.append(item)\n",
    "\n",
    "print(len(foursquareRating))"
   ]
  },
  {
   "cell_type": "markdown",
   "metadata": {},
   "source": [
    "# 随机为node赋值为POI"
   ]
  },
  {
   "cell_type": "code",
   "execution_count": 53,
   "metadata": {},
   "outputs": [],
   "source": [
    "import random\n",
    "\n",
    "chosen=set()\n",
    "cur.execute(\"select count(distinct id) from qualified_nodes\")\n",
    "node_len=cur.fetchall()[0][0]\n",
    "\n",
    "with open('../../map_'+map_name+'/category.txt','w') as f:\n",
    "    for i in range(len(category_num)):\n",
    "        num=category_num[i]\n",
    "        while num>=0:\n",
    "            choose_node=random.randint(0,node_len-1)\n",
    "            while choose_node in chosen:\n",
    "                choose_node=random.randint(0,node_len-1)\n",
    "            chosen.add(choose_node)\n",
    "            num-=1\n",
    "            f.write(str(choose_node)+' '+str(i)+' '+str(random.choice(foursquareRating))+'\\n')"
   ]
  },
  {
   "cell_type": "code",
   "execution_count": null,
   "metadata": {},
   "outputs": [],
   "source": []
  },
  {
   "cell_type": "markdown",
   "metadata": {},
   "source": [
    "# 读取edge.txt文件，为路网添加POI"
   ]
  },
  {
   "cell_type": "markdown",
   "metadata": {},
   "source": [
    "### 这一步主要是为Real Datasets for Spatial Databases的四个没有POI的数据集构造POI数据"
   ]
  },
  {
   "cell_type": "code",
   "execution_count": 31,
   "metadata": {},
   "outputs": [],
   "source": [
    "# 对于edge文件，需要将它的edge ID去掉\n",
    "map_name='TG'\n",
    "edge_file='../RDSD/'+map_name+'/edgeo.txt'\n",
    "lonlat_file='../RDSD/'+map_name+'/lonlat.txt'\n",
    "\n",
    "output_edge_file='../RDSD/'+map_name+'/edge.txt'\n",
    "output_edge=open(output_edge_file,'w')\n",
    "category_file='../RDSD/'+map_name+'/category.txt'\n",
    "\n",
    "with open(edge_file,'r') as input_edge:\n",
    "    for line in input_edge:\n",
    "        data=line.split(' ')\n",
    "        output_edge.write(data[1]+' '+data[2]+' '+data[3])\n",
    "output_edge.close()"
   ]
  },
  {
   "cell_type": "code",
   "execution_count": 32,
   "metadata": {},
   "outputs": [
    {
     "name": "stdout",
     "output_type": "stream",
     "text": [
      "18263\n"
     ]
    }
   ],
   "source": [
    "# 对于lonlat文件，读取所有node的ID\n",
    "node_set=set()\n",
    "with open(lonlat_file,'r') as input_lonlat:\n",
    "    for line in input_lonlat:\n",
    "        data=line.split(' ')\n",
    "        node_set.add(int(data[0]))\n",
    "node_num=len(node_set)\n",
    "print(node_num)"
   ]
  },
  {
   "cell_type": "code",
   "execution_count": 33,
   "metadata": {},
   "outputs": [],
   "source": [
    "import random\n",
    "\n",
    "POI_num=int(node_num*0.13)\n",
    "category_num=random.randint(0,100)\n",
    "category_list=[random.randint(10,200) for i in range(category_num)]\n",
    "# 添加POI并构建category.txt\n",
    "# category的文件格式 node_id category_id rating\n",
    "chosen=set()\n",
    "with open(category_file,'w') as output_category:\n",
    "    for i in range(category_num):\n",
    "        c_num=category_list[i]\n",
    "        while c_num>=0:\n",
    "            choose_node=random.randint(0,node_num-1)\n",
    "            while choose_node in chosen:\n",
    "                choose_node=random.randint(0,node_num-1)\n",
    "            chosen.add(choose_node)\n",
    "            c_num-=1\n",
    "            output_category.write(str(choose_node)+' '+str(i)+' '+str(random.choice(foursquareRating))+'\\n')"
   ]
  },
  {
   "cell_type": "code",
   "execution_count": null,
   "metadata": {},
   "outputs": [],
   "source": []
  }
 ],
 "metadata": {
  "kernelspec": {
   "display_name": "Python 3",
   "language": "python",
   "name": "python3"
  },
  "language_info": {
   "codemirror_mode": {
    "name": "ipython",
    "version": 3
   },
   "file_extension": ".py",
   "mimetype": "text/x-python",
   "name": "python",
   "nbconvert_exporter": "python",
   "pygments_lexer": "ipython3",
   "version": "3.7.5"
  }
 },
 "nbformat": 4,
 "nbformat_minor": 2
}
